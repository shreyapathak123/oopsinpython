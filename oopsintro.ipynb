{
 "cells": [
  {
   "cell_type": "code",
   "execution_count": 1,
   "id": "a54ed865-e968-4bd7-af39-990bc9637cdd",
   "metadata": {},
   "outputs": [],
   "source": [
    "a=1"
   ]
  },
  {
   "cell_type": "code",
   "execution_count": 2,
   "id": "52bea305-f43a-4417-b2ad-6623345ba71c",
   "metadata": {},
   "outputs": [
    {
     "name": "stdout",
     "output_type": "stream",
     "text": [
      "<class 'int'>\n"
     ]
    }
   ],
   "source": [
    "print(type(a))"
   ]
  },
  {
   "cell_type": "code",
   "execution_count": 3,
   "id": "38b5baac-2b05-4763-842a-6214529bdd78",
   "metadata": {},
   "outputs": [
    {
     "name": "stdout",
     "output_type": "stream",
     "text": [
      "<class 'str'>\n"
     ]
    }
   ],
   "source": [
    "print(type(\"krishna\"))"
   ]
  },
  {
   "cell_type": "code",
   "execution_count": 4,
   "id": "a7143e58-9e24-4510-9c39-bbdef22617c5",
   "metadata": {},
   "outputs": [
    {
     "ename": "SyntaxError",
     "evalue": "incomplete input (3527747674.py, line 1)",
     "output_type": "error",
     "traceback": [
      "\u001b[1;36m  Cell \u001b[1;32mIn[4], line 1\u001b[1;36m\u001b[0m\n\u001b[1;33m    class test:\u001b[0m\n\u001b[1;37m               ^\u001b[0m\n\u001b[1;31mSyntaxError\u001b[0m\u001b[1;31m:\u001b[0m incomplete input\n"
     ]
    }
   ],
   "source": [
    "class test:"
   ]
  },
  {
   "cell_type": "code",
   "execution_count": 5,
   "id": "3b8709fa-6568-45ec-8ada-a70bb08f6792",
   "metadata": {},
   "outputs": [],
   "source": [
    "class test:\n",
    "    pass"
   ]
  },
  {
   "cell_type": "code",
   "execution_count": 6,
   "id": "2f37f34d-9db2-4b89-9c02-fca19a8c5f9a",
   "metadata": {},
   "outputs": [],
   "source": [
    "a=test()"
   ]
  },
  {
   "cell_type": "code",
   "execution_count": 7,
   "id": "6548dce8-cf04-4cf9-b2b3-56741cdc0ba7",
   "metadata": {},
   "outputs": [
    {
     "data": {
      "text/plain": [
       "__main__.test"
      ]
     },
     "execution_count": 7,
     "metadata": {},
     "output_type": "execute_result"
    }
   ],
   "source": [
    "type(a)"
   ]
  },
  {
   "cell_type": "code",
   "execution_count": 8,
   "id": "9c2d2981-5a39-4094-8d82-f6b54d21948c",
   "metadata": {},
   "outputs": [
    {
     "name": "stdout",
     "output_type": "stream",
     "text": [
      "<class '__main__.test'>\n"
     ]
    }
   ],
   "source": [
    "print(type(a))"
   ]
  },
  {
   "cell_type": "code",
   "execution_count": 26,
   "id": "0cb8bb62-7deb-4c54-b18b-290eb3d88d9a",
   "metadata": {},
   "outputs": [],
   "source": [
    "class datascience:\n",
    "    def welcome_massage(self):\n",
    "        print(\"welcome to datascience classes\")"
   ]
  },
  {
   "cell_type": "code",
   "execution_count": 27,
   "id": "96942aec-6c8c-4492-a9fa-22303da7a0c2",
   "metadata": {},
   "outputs": [],
   "source": [
    "rohan = datascience()"
   ]
  },
  {
   "cell_type": "code",
   "execution_count": 28,
   "id": "c6afc53e-ead0-4f01-9742-ce7dcff0b6f2",
   "metadata": {},
   "outputs": [
    {
     "name": "stdout",
     "output_type": "stream",
     "text": [
      "<class '__main__.datascience'>\n"
     ]
    }
   ],
   "source": [
    "print(type(rohan))"
   ]
  },
  {
   "cell_type": "code",
   "execution_count": 29,
   "id": "a6d70bed-e854-45b0-8198-619942209c02",
   "metadata": {},
   "outputs": [
    {
     "name": "stdout",
     "output_type": "stream",
     "text": [
      "welcome to datascience classes\n"
     ]
    }
   ],
   "source": [
    "rohan.welcome_massage()"
   ]
  },
  {
   "cell_type": "code",
   "execution_count": 30,
   "id": "47b3dca9-5878-47af-b255-d42c210c7c52",
   "metadata": {},
   "outputs": [
    {
     "name": "stdout",
     "output_type": "stream",
     "text": [
      "welcome to datascience classes\n"
     ]
    }
   ],
   "source": [
    "rohan.welcome_massage()"
   ]
  },
  {
   "cell_type": "code",
   "execution_count": 31,
   "id": "a008256f-b4bc-410e-be44-4f1dd4787030",
   "metadata": {},
   "outputs": [],
   "source": [
    "gaurav = datascience()"
   ]
  },
  {
   "cell_type": "code",
   "execution_count": 32,
   "id": "4f6602e2-3559-4228-bf8c-29c917915209",
   "metadata": {},
   "outputs": [
    {
     "name": "stdout",
     "output_type": "stream",
     "text": [
      "welcome to datascience classes\n"
     ]
    }
   ],
   "source": [
    "gaurav.welcome_massage()"
   ]
  },
  {
   "cell_type": "code",
   "execution_count": 33,
   "id": "713c95d4-4e85-4df2-8d7a-57a54a59d85c",
   "metadata": {},
   "outputs": [],
   "source": [
    "class datascience1:\n",
    "    def __init__(self,phone_number,email_id,student_id):\n",
    "        self.phone_number = phone_number\n",
    "        self.email_id = email_id\n",
    "        self.student_id = student_id\n",
    "\n",
    "    def return_student_details(self):\n",
    "        return self.student_id ,self.phone_number,self.email_id\n"
   ]
  },
  {
   "cell_type": "code",
   "execution_count": 40,
   "id": "db16401e-461c-47cf-90d6-cf2748c13dbb",
   "metadata": {},
   "outputs": [],
   "source": [
    "rohan = datascience1(1122334455,\"rohan@gmail.com\",101)"
   ]
  },
  {
   "cell_type": "code",
   "execution_count": 41,
   "id": "09143720-f537-48be-b44f-71ee99611e80",
   "metadata": {},
   "outputs": [
    {
     "data": {
      "text/plain": [
       "1122334455"
      ]
     },
     "execution_count": 41,
     "metadata": {},
     "output_type": "execute_result"
    }
   ],
   "source": [
    "rohan.phone_number"
   ]
  },
  {
   "cell_type": "code",
   "execution_count": 35,
   "id": "3895340b-df1e-4488-b7d9-b370dc7d128a",
   "metadata": {},
   "outputs": [
    {
     "data": {
      "text/plain": [
       "(101, 1122334455, 'rohan@gmail.com')"
      ]
     },
     "execution_count": 35,
     "metadata": {},
     "output_type": "execute_result"
    }
   ],
   "source": [
    "rohan.return_student_details()"
   ]
  },
  {
   "cell_type": "code",
   "execution_count": 38,
   "id": "d17a02ce-a027-4b0c-ab36-8179f80bbe75",
   "metadata": {},
   "outputs": [],
   "source": [
    "gaurav = datascience1(1122323232,\"gaurav@gmail.com\",102)"
   ]
  },
  {
   "cell_type": "code",
   "execution_count": 39,
   "id": "3be89ae6-9a5b-46b4-82ed-1646cb569924",
   "metadata": {},
   "outputs": [
    {
     "data": {
      "text/plain": [
       "(102, 1122323232, 'gaurav@gmail.com')"
      ]
     },
     "execution_count": 39,
     "metadata": {},
     "output_type": "execute_result"
    }
   ],
   "source": [
    "gaurav.return_student_details()"
   ]
  },
  {
   "cell_type": "code",
   "execution_count": 46,
   "id": "9a5312c9-7c40-47ab-b49c-4c78dde7320d",
   "metadata": {},
   "outputs": [],
   "source": [
    "class datascience2:\n",
    "    def __init__(self,phone_number,email_id,student_id):\n",
    "        self.phone_number1 = phone_number\n",
    "        self.email_id1 = email_id\n",
    "        self.student_id1 = student_id\n",
    "\n",
    "    def return_student_details(self):\n",
    "        return self.student_id1 ,self.phone_numbe1r,self.email_id1\n"
   ]
  },
  {
   "cell_type": "code",
   "execution_count": 47,
   "id": "52e3c808-1f4a-4e7e-aecd-b6440c574beb",
   "metadata": {},
   "outputs": [],
   "source": [
    "sudha = datascience2( 11122332323,\"sudha@gmail.com\",101)"
   ]
  },
  {
   "cell_type": "code",
   "execution_count": 48,
   "id": "ce9a283a-9395-4e43-8d0d-2b1cc96c1d47",
   "metadata": {},
   "outputs": [
    {
     "data": {
      "text/plain": [
       "11122332323"
      ]
     },
     "execution_count": 48,
     "metadata": {},
     "output_type": "execute_result"
    }
   ],
   "source": [
    "sudha.phone_number1"
   ]
  },
  {
   "cell_type": "code",
   "execution_count": 49,
   "id": "c03b8f8a-783b-44bb-8cf8-255cb6fc4cbe",
   "metadata": {},
   "outputs": [
    {
     "ename": "AttributeError",
     "evalue": "'datascience2' object has no attribute 'email_id'",
     "output_type": "error",
     "traceback": [
      "\u001b[1;31m---------------------------------------------------------------------------\u001b[0m",
      "\u001b[1;31mAttributeError\u001b[0m                            Traceback (most recent call last)",
      "Cell \u001b[1;32mIn[49], line 1\u001b[0m\n\u001b[1;32m----> 1\u001b[0m sudha\u001b[38;5;241m.\u001b[39memail_id\n",
      "\u001b[1;31mAttributeError\u001b[0m: 'datascience2' object has no attribute 'email_id'"
     ]
    }
   ],
   "source": [
    "sudha.email_id"
   ]
  },
  {
   "cell_type": "code",
   "execution_count": 50,
   "id": "86274f92-ecaf-4f60-8979-ac9095ecccea",
   "metadata": {},
   "outputs": [
    {
     "data": {
      "text/plain": [
       "'sudha@gmail.com'"
      ]
     },
     "execution_count": 50,
     "metadata": {},
     "output_type": "execute_result"
    }
   ],
   "source": [
    "sudha.email_id1"
   ]
  },
  {
   "cell_type": "code",
   "execution_count": null,
   "id": "efa011cd-f1e1-41c6-b4a5-0b6189f90e9c",
   "metadata": {},
   "outputs": [],
   "source": []
  }
 ],
 "metadata": {
  "kernelspec": {
   "display_name": "Python 3 (ipykernel)",
   "language": "python",
   "name": "python3"
  },
  "language_info": {
   "codemirror_mode": {
    "name": "ipython",
    "version": 3
   },
   "file_extension": ".py",
   "mimetype": "text/x-python",
   "name": "python",
   "nbconvert_exporter": "python",
   "pygments_lexer": "ipython3",
   "version": "3.11.7"
  }
 },
 "nbformat": 4,
 "nbformat_minor": 5
}
