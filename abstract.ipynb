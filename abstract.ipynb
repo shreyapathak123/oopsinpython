{
 "cells": [
  {
   "cell_type": "code",
   "execution_count": 12,
   "id": "30b8546f-63ea-4cda-b10e-be766db9052c",
   "metadata": {},
   "outputs": [],
   "source": [
    "import abc\n",
    "class datascience:\n",
    "    @abc.abstractmethod\n",
    "    def students_details(self):\n",
    "        pass\n",
    "\n",
    "    @abc.abstractmethod\n",
    "    def students_assignement(self):\n",
    "        pass\n",
    "\n",
    "    @abc.abstractmethod\n",
    "    def students_marks(self):\n",
    "        \n",
    "        pass\n",
    "     \n",
    "    "
   ]
  },
  {
   "cell_type": "code",
   "execution_count": 13,
   "id": "9306d74e-8c61-428f-b212-ef7932a58b45",
   "metadata": {},
   "outputs": [],
   "source": [
    "class student_details(datascience):\n",
    "    def students_details(self):\n",
    "        return \"this is a method for taking students details \"\n",
    "\n",
    "    def students_assignment(self):\n",
    "        return \"this is a meth for assign details for a perticular student\""
   ]
  },
  {
   "cell_type": "code",
   "execution_count": 14,
   "id": "8c674a77-2362-4845-9abb-d560c1b3fea6",
   "metadata": {},
   "outputs": [],
   "source": [
    "class machine_learning_masters(datascience):\n",
    "    def students_details(self):\n",
    "        return \"this will return a student details for data machine learning\"\n",
    "    def students_assignement(self):\n",
    "        return \"this will give you a student assignment details for machine learning\"\n",
    "        "
   ]
  },
  {
   "cell_type": "code",
   "execution_count": 16,
   "id": "e01c00f7-5683-46e0-9286-2d95f5b0a2ba",
   "metadata": {},
   "outputs": [
    {
     "data": {
      "text/plain": [
       "'this will return a student details for data machine learning'"
      ]
     },
     "execution_count": 16,
     "metadata": {},
     "output_type": "execute_result"
    }
   ],
   "source": [
    "dsm = machine_learning_masters()\n",
    "dsm.students_details()"
   ]
  },
  {
   "cell_type": "code",
   "execution_count": 17,
   "id": "d61077dd-b22c-41a1-bf56-fd77becdc174",
   "metadata": {},
   "outputs": [
    {
     "data": {
      "text/plain": [
       "'this is a method for taking students details '"
      ]
     },
     "execution_count": 17,
     "metadata": {},
     "output_type": "execute_result"
    }
   ],
   "source": [
    "sd = student_details()\n",
    "sd.students_details()"
   ]
  },
  {
   "cell_type": "code",
   "execution_count": null,
   "id": "5aabb11e-ed99-44fd-a8cd-150034c98939",
   "metadata": {},
   "outputs": [],
   "source": []
  }
 ],
 "metadata": {
  "kernelspec": {
   "display_name": "Python 3 (ipykernel)",
   "language": "python",
   "name": "python3"
  },
  "language_info": {
   "codemirror_mode": {
    "name": "ipython",
    "version": 3
   },
   "file_extension": ".py",
   "mimetype": "text/x-python",
   "name": "python",
   "nbconvert_exporter": "python",
   "pygments_lexer": "ipython3",
   "version": "3.11.7"
  }
 },
 "nbformat": 4,
 "nbformat_minor": 5
}
