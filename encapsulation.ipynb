{
 "cells": [
  {
   "cell_type": "code",
   "execution_count": 1,
   "id": "59b862f7-655d-4e18-a666-8aee14eff072",
   "metadata": {},
   "outputs": [],
   "source": [
    "class test :\n",
    "\n",
    "    def __init__(self , a, b):\n",
    "        self.a = a\n",
    "        self.b = b"
   ]
  },
  {
   "cell_type": "code",
   "execution_count": 4,
   "id": "b502a414-7e23-42ed-bfa9-7c6d6ccf908a",
   "metadata": {},
   "outputs": [],
   "source": [
    "t=test(23,34)\n"
   ]
  },
  {
   "cell_type": "code",
   "execution_count": 5,
   "id": "60c000de-a494-4e91-be37-b00ef15cb6a7",
   "metadata": {},
   "outputs": [],
   "source": [
    "t.a = 233445"
   ]
  },
  {
   "cell_type": "code",
   "execution_count": 6,
   "id": "1eca4726-2fd1-4ef0-8a91-ae5db41db345",
   "metadata": {},
   "outputs": [
    {
     "data": {
      "text/plain": [
       "233445"
      ]
     },
     "execution_count": 6,
     "metadata": {},
     "output_type": "execute_result"
    }
   ],
   "source": [
    "t.a"
   ]
  },
  {
   "cell_type": "code",
   "execution_count": 10,
   "id": "201c4fb0-8188-4a72-8776-5871046682ef",
   "metadata": {},
   "outputs": [],
   "source": [
    "class car :\n",
    "    def __init__(self , year,make,model,speed):\n",
    "        self.__year = year\n",
    "        self.__make = make\n",
    "        self.__model = model\n",
    "        self .__speed = speed"
   ]
  },
  {
   "cell_type": "code",
   "execution_count": 11,
   "id": "58e82936-452b-4259-a4ef-4f49f6eaec1b",
   "metadata": {},
   "outputs": [],
   "source": [
    "c = car(2021,\"toyata\",\"innova\",12)"
   ]
  },
  {
   "cell_type": "code",
   "execution_count": 12,
   "id": "7e287d85-7f7d-4054-8d79-f78ae0f7082a",
   "metadata": {},
   "outputs": [
    {
     "data": {
      "text/plain": [
       "2021"
      ]
     },
     "execution_count": 12,
     "metadata": {},
     "output_type": "execute_result"
    }
   ],
   "source": [
    "c._car__year"
   ]
  },
  {
   "cell_type": "code",
   "execution_count": 15,
   "id": "22d9b6b5-dfc9-4c06-bf58-62b0891c5c2f",
   "metadata": {},
   "outputs": [],
   "source": [
    "class car :\n",
    "    def __init__(self , year,make,model,speed):\n",
    "        self.__year = year\n",
    "        self.__make = make\n",
    "        self.__model = model\n",
    "        self .__speed = speed\n",
    "\n",
    "    def set_speed(self,speed):\n",
    "        self.__speed = 0 if speed<0 else speed\n",
    "\n",
    "    def get_speed(self):\n",
    "         return self.__speed\n",
    "        "
   ]
  },
  {
   "cell_type": "code",
   "execution_count": 16,
   "id": "23f2524b-c22a-4814-8412-61e2ee50b8b7",
   "metadata": {},
   "outputs": [],
   "source": [
    "c = car(2021,\"toyata\",\"innova\",12)"
   ]
  },
  {
   "cell_type": "code",
   "execution_count": 17,
   "id": "1431339c-6450-4a3f-b661-811d991ca685",
   "metadata": {},
   "outputs": [],
   "source": [
    "c.set_speed(-3245)"
   ]
  },
  {
   "cell_type": "code",
   "execution_count": 18,
   "id": "f8cdc26f-f55f-4991-8b55-74a0c235f13a",
   "metadata": {},
   "outputs": [
    {
     "data": {
      "text/plain": [
       "0"
      ]
     },
     "execution_count": 18,
     "metadata": {},
     "output_type": "execute_result"
    }
   ],
   "source": [
    "c.get_speed()"
   ]
  },
  {
   "cell_type": "code",
   "execution_count": 19,
   "id": "2dd877a6-6f0f-494e-9b6d-e4259de0e928",
   "metadata": {},
   "outputs": [],
   "source": [
    "c.set_speed(432)"
   ]
  },
  {
   "cell_type": "code",
   "execution_count": 20,
   "id": "7f7960a4-28f1-4c88-8e53-44fe6c23724d",
   "metadata": {},
   "outputs": [
    {
     "data": {
      "text/plain": [
       "432"
      ]
     },
     "execution_count": 20,
     "metadata": {},
     "output_type": "execute_result"
    }
   ],
   "source": [
    "c.get_speed()"
   ]
  },
  {
   "cell_type": "code",
   "execution_count": 44,
   "id": "1fe54eb2-28b9-4c59-8217-7813706dc8f8",
   "metadata": {},
   "outputs": [],
   "source": [
    "class bank_account:\n",
    "    def __init__(self, balance):\n",
    "        self.__balanace = balance\n",
    "\n",
    "    def deposit(self, amount):\n",
    "        self.__balanace = self.__balanace + amount\n",
    "\n",
    "    def withdraw(self , amount):\n",
    "        if self.__balanace >= amount:\n",
    "            self.__balanace = self.__balanace - amount\n",
    "            return True\n",
    "        else:\n",
    "            return False\n",
    "    def get_balance(self):\n",
    "        return self.__balanace"
   ]
  },
  {
   "cell_type": "code",
   "execution_count": 45,
   "id": "831d6f20-c358-40ff-a584-64765899033f",
   "metadata": {},
   "outputs": [],
   "source": [
    "seema = bank_account(1000)"
   ]
  },
  {
   "cell_type": "code",
   "execution_count": 46,
   "id": "5badfde8-6bef-492a-be09-4354416f6c26",
   "metadata": {},
   "outputs": [
    {
     "data": {
      "text/plain": [
       "1000"
      ]
     },
     "execution_count": 46,
     "metadata": {},
     "output_type": "execute_result"
    }
   ],
   "source": [
    "seema.get_balance()"
   ]
  },
  {
   "cell_type": "code",
   "execution_count": 47,
   "id": "73b78445-b13c-4800-a846-603f2e7c8fd7",
   "metadata": {},
   "outputs": [],
   "source": [
    "seema.deposit(5000)"
   ]
  },
  {
   "cell_type": "code",
   "execution_count": 48,
   "id": "6c0d5a16-193a-4fcf-979f-661d0498db0e",
   "metadata": {},
   "outputs": [
    {
     "data": {
      "text/plain": [
       "6000"
      ]
     },
     "execution_count": 48,
     "metadata": {},
     "output_type": "execute_result"
    }
   ],
   "source": [
    "seema.get_balance()"
   ]
  },
  {
   "cell_type": "code",
   "execution_count": 49,
   "id": "e117aaaa-5a96-4d9e-b848-b8a44fb28d26",
   "metadata": {},
   "outputs": [
    {
     "data": {
      "text/plain": [
       "True"
      ]
     },
     "execution_count": 49,
     "metadata": {},
     "output_type": "execute_result"
    }
   ],
   "source": [
    "seema.withdraw(200)"
   ]
  },
  {
   "cell_type": "code",
   "execution_count": 50,
   "id": "c4b226fd-ad8c-4b34-b550-aff824f1d1fd",
   "metadata": {},
   "outputs": [
    {
     "data": {
      "text/plain": [
       "5800"
      ]
     },
     "execution_count": 50,
     "metadata": {},
     "output_type": "execute_result"
    }
   ],
   "source": [
    "seema.get_balance()"
   ]
  },
  {
   "cell_type": "code",
   "execution_count": null,
   "id": "06a956af-fec0-4784-8176-9839465fbdcb",
   "metadata": {},
   "outputs": [],
   "source": []
  }
 ],
 "metadata": {
  "kernelspec": {
   "display_name": "Python 3 (ipykernel)",
   "language": "python",
   "name": "python3"
  },
  "language_info": {
   "codemirror_mode": {
    "name": "ipython",
    "version": 3
   },
   "file_extension": ".py",
   "mimetype": "text/x-python",
   "name": "python",
   "nbconvert_exporter": "python",
   "pygments_lexer": "ipython3",
   "version": "3.11.7"
  }
 },
 "nbformat": 4,
 "nbformat_minor": 5
}
