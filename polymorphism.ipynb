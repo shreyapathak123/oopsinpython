{
 "cells": [
  {
   "cell_type": "code",
   "execution_count": 4,
   "id": "25fed77f-855a-4fb5-8074-9242b5795084",
   "metadata": {},
   "outputs": [],
   "source": [
    "def test(a,b):\n",
    "    return a+b"
   ]
  },
  {
   "cell_type": "code",
   "execution_count": 5,
   "id": "79a68c4d-9297-47c9-9e9e-74ddd84db231",
   "metadata": {},
   "outputs": [
    {
     "data": {
      "text/plain": [
       "7"
      ]
     },
     "execution_count": 5,
     "metadata": {},
     "output_type": "execute_result"
    }
   ],
   "source": [
    "test(3,4)"
   ]
  },
  {
   "cell_type": "code",
   "execution_count": 6,
   "id": "5cbb9ba7-1cfc-4cb1-9b76-1188aca7d20c",
   "metadata": {},
   "outputs": [
    {
     "data": {
      "text/plain": [
       "'krishnaa'"
      ]
     },
     "execution_count": 6,
     "metadata": {},
     "output_type": "execute_result"
    }
   ],
   "source": [
    "test(\"krish\",\"naa\")"
   ]
  },
  {
   "cell_type": "code",
   "execution_count": 7,
   "id": "67067507-1c7f-45cb-beaa-0564d6713e0e",
   "metadata": {},
   "outputs": [
    {
     "data": {
      "text/plain": [
       "[1, 2, 3, 4, 1, 2, 3, 4, 5]"
      ]
     },
     "execution_count": 7,
     "metadata": {},
     "output_type": "execute_result"
    }
   ],
   "source": [
    "test([1,2,3,4] ,[1,2,3,4,5])"
   ]
  },
  {
   "cell_type": "code",
   "execution_count": 8,
   "id": "03a776fd-5486-427d-92c9-b04493ccfa01",
   "metadata": {},
   "outputs": [],
   "source": [
    "class data_science():\n",
    "\n",
    "    def syllabus(self):\n",
    "        print(\"this is my syllabus for data science masters \")"
   ]
  },
  {
   "cell_type": "code",
   "execution_count": 9,
   "id": "1998561a-c9f2-4ea0-a4a1-54f8603a9731",
   "metadata": {},
   "outputs": [],
   "source": [
    "class web_dev:\n",
    "    \n",
    "    def syllabus(self):\n",
    "        print(\"this is my syllabus for web development\")\n",
    "        "
   ]
  },
  {
   "cell_type": "code",
   "execution_count": 10,
   "id": "ddf73ae5-1507-444d-9c72-cd8b9820d650",
   "metadata": {},
   "outputs": [],
   "source": [
    "def class_parcer(class_obj):\n",
    "    for i in class_obj :\n",
    "        i.syllabus()"
   ]
  },
  {
   "cell_type": "code",
   "execution_count": 11,
   "id": "8b0da091-4814-49e1-b467-fdfca2093a7e",
   "metadata": {},
   "outputs": [],
   "source": [
    "data_science = data_science()"
   ]
  },
  {
   "cell_type": "code",
   "execution_count": 12,
   "id": "a49e5678-03d9-44ef-bf76-9d9d00822e23",
   "metadata": {},
   "outputs": [],
   "source": [
    "web_dev = web_dev()"
   ]
  },
  {
   "cell_type": "code",
   "execution_count": 13,
   "id": "92121f82-d1c0-4442-9944-d2d1e2c39a9e",
   "metadata": {},
   "outputs": [],
   "source": [
    "class_obj = [data_science , web_dev]"
   ]
  },
  {
   "cell_type": "code",
   "execution_count": null,
   "id": "22fee34f-8a8c-4112-8d0d-16fd9143e52f",
   "metadata": {},
   "outputs": [],
   "source": [
    "class_parcer(class_obj)"
   ]
  }
 ],
 "metadata": {
  "kernelspec": {
   "display_name": "Python 3 (ipykernel)",
   "language": "python",
   "name": "python3"
  },
  "language_info": {
   "codemirror_mode": {
    "name": "ipython",
    "version": 3
   },
   "file_extension": ".py",
   "mimetype": "text/x-python",
   "name": "python",
   "nbconvert_exporter": "python",
   "pygments_lexer": "ipython3",
   "version": "3.11.7"
  }
 },
 "nbformat": 4,
 "nbformat_minor": 5
}
